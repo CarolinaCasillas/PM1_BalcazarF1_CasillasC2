{
 "cells": [
  {
   "cell_type": "markdown",
   "id": "3fe5ee2d",
   "metadata": {},
   "source": [
    "# Título"
   ]
  },
  {
   "cell_type": "markdown",
   "id": "89571b3d",
   "metadata": {},
   "source": [
    "## Objetivos"
   ]
  },
  {
   "cell_type": "markdown",
   "id": "a4568a53",
   "metadata": {},
   "source": [
    "## Introducción"
   ]
  },
  {
   "cell_type": "markdown",
   "id": "1c02dccc",
   "metadata": {},
   "source": [
    "## Problema de Optimización"
   ]
  },
  {
   "cell_type": "markdown",
   "id": "38bb641b",
   "metadata": {},
   "source": [
    "### Modelo"
   ]
  },
  {
   "cell_type": "markdown",
   "id": "4706b57b",
   "metadata": {},
   "source": [
    "Una compañía de producción de cemento tiene $3$ plantas de producción de cemento en la ciudad de Guadalajara, para satisfacer la demanda de 3 obras en 3 zonas diferentes de la ciudad. Las plantas Norte, Sur y Centro pueden producir: $400kg$, $600kg$ y $200kg$ respectivamente al día y las obras 1, 2 y 3 requieren de $500kg$, $300kg$ y $400kg$ de cemento respectivamente al día para poder seguir operando. Los costos, en dólares, asociados al envió de cemento por $kg$ son lo siguientes:   \n",
    "\n",
    "| - | **Obra 1** | **Obra 2** | **Obra 3** |\n",
    "|---------------------|:------------------------:|:---------------------:|--------------|\n",
    "| *Planta Norte* | 8 | 5 | 2 |\n",
    "| *Planta Sur* | 2 | 3 | 5 |\n",
    "| *Planta Centro* | 4 | 7 | 8 |   \n",
    "\n",
    "\n",
    "Para simplificar la notación se utilizarán las siguientes variables:   \n",
    "$x_1$: Kg de cemento distribuidos de la Planta Norte a obra 1   \n",
    "$x_2$: Kg de cemento distribuidos de la Planta Norte a obra 2   \n",
    "$x_3$: Kg de cemento distribuidos de la Planta Norte a obra 3   \n",
    "$x_4$: Kg de cemento distribuidos de la Planta Sur a obra 1   \n",
    "$x_5$: Kg de cemento distribuidos de la Planta Sur a obra 2   \n",
    "$x_6$: Kg de cemento distribuidos de la Planta Sur a obra 3   \n",
    "$x_7$: Kg de cemento distribuidos de la Planta Centro a obra 1   \n",
    "$x_8$: Kg de cemento distribuidos de la Planta Centro a obra 2   \n",
    "$x_9$: Kg de cemento distribuidos de la Planta Centro a obra 3   \n",
    "\n",
    "El objetivo es satisfacer los requerimientos de cemento de todas las obras, al tiempo que minimice los costos asociados a la distribución."
   ]
  },
  {
   "cell_type": "markdown",
   "id": "34ead0a6",
   "metadata": {},
   "source": [
    "La función a minizar son los costos de distribución:   \n",
    "$$\\min_{x_1,x_2,x_3,x_4,x_5,x_6,x_7,x_8,x_9} 8x_1+5x_2+2x_3+2x_4+3x_5+5x_6+4x_7+7x_8+8x_9$$  \n",
    "\n",
    "Producción Planta Norte:   \n",
    "$x_1+x_2+x_3\\leq400$   \n",
    "\n",
    "Producción Planta Sur:   \n",
    "$x_4+x_5+x_6\\leq600$   \n",
    "\n",
    "Producción Planta Centro:   \n",
    "$x_7+x_8+x_9\\leq200$   \n",
    "\n",
    "Requerimiento Obra 1:   \n",
    "$x_1+x_4+x_7\\geq500$   \n",
    "\n",
    "Requerimiento Obra 2:   \n",
    "$x_2+x_5+x_8\\geq300$   \n",
    "\n",
    "Requerimiento Obra 3:   \n",
    "$x_3+x_6+x_9\\geq400$   "
   ]
  },
  {
   "cell_type": "markdown",
   "id": "29c814a9",
   "metadata": {},
   "source": [
    "### Solúción"
   ]
  },
  {
   "cell_type": "code",
   "execution_count": 1,
   "id": "977ee089",
   "metadata": {},
   "outputs": [],
   "source": [
    "import scipy.optimize as opt\n",
    "import numpy as np"
   ]
  },
  {
   "cell_type": "code",
   "execution_count": 2,
   "id": "4ada8f25",
   "metadata": {},
   "outputs": [],
   "source": [
    "c = np.array([8,5,2,2,3,5,4,7,8])\n",
    "b = np.array([400,600,200,-500,-300,-400])\n",
    "A = np.array([[1,1,1,0,0,0,0,0,0],\n",
    "              [0,0,0,1,1,1,0,0,0],\n",
    "              [0,0,0,0,0,0,1,1,1],\n",
    "              [-1,0,0,-1,0,0,-1,0,0],\n",
    "              [0,-1,0,0,-1,0,0,-1,0],\n",
    "             [0,0,-1,0,0,-1,0,0,-1]])"
   ]
  },
  {
   "cell_type": "code",
   "execution_count": 3,
   "id": "226f6732",
   "metadata": {},
   "outputs": [],
   "source": [
    "sol_cemento = opt.linprog(c,A,b,method='revised simplex')"
   ]
  },
  {
   "cell_type": "code",
   "execution_count": 4,
   "id": "a7fdbad8",
   "metadata": {},
   "outputs": [
    {
     "data": {
      "text/plain": [
       "     con: array([], dtype=float64)\n",
       "     fun: 3100.0\n",
       " message: 'Optimization terminated successfully.'\n",
       "     nit: 6\n",
       "   slack: array([0., 0., 0., 0., 0., 0.])\n",
       "  status: 0\n",
       " success: True\n",
       "       x: array([  0.,   0., 400., 300., 300.,   0., 200.,   0.,   0.])"
      ]
     },
     "execution_count": 4,
     "metadata": {},
     "output_type": "execute_result"
    }
   ],
   "source": [
    "sol_cemento"
   ]
  },
  {
   "cell_type": "markdown",
   "id": "692dd1f9",
   "metadata": {},
   "source": [
    "El costo mínimo de distribución será de $3100$ dólares.   \n",
    "Para ello se debe seguir la siguiente distribución:\n",
    "\n",
    "| - | **Obra 1** | **Obra 2** | **Obra 3** | ***total*** |\n",
    "|---------------------|:------------------------:|:---------------------:|:---------------------:|--------------|\n",
    "| *Planta Norte* | - | - | 400kg | 400kg |\n",
    "| *Planta Sur* | 300kg | 300kg | - | 600kg | \n",
    "| *Planta Centro* | 200kg | - | - | 200kg |\n",
    "| ***total*** | 500kg | 300kg | 400 kg | 1200kg |"
   ]
  },
  {
   "cell_type": "markdown",
   "id": "b1f61e4f",
   "metadata": {},
   "source": [
    "## Ajuste de Curvas"
   ]
  },
  {
   "cell_type": "code",
   "execution_count": 56,
   "id": "79579bca",
   "metadata": {},
   "outputs": [],
   "source": [
    "import numpy as np\n",
    "import scipy.optimize as opt\n",
    "import matplotlib.pyplot as plt"
   ]
  },
  {
   "cell_type": "code",
   "execution_count": 57,
   "id": "cd3a0bc7",
   "metadata": {},
   "outputs": [],
   "source": [
    "x = np.array([2000,2001,2002,2003,2004,2005,2006,2007,2008,2009,2010,2011,2012,2013,2014,2015,2016,2017,2018,2019])\n",
    "y = np.array([54.41,57.295,56.323,62.067,73.753,69.624,81.525,80.006,92.426,86.36,90.115,96.57,100,98.361,100.284,105.573,117.473,129.705,145.84,146.758])"
   ]
  },
  {
   "cell_type": "code",
   "execution_count": 58,
   "id": "e04d368c",
   "metadata": {},
   "outputs": [
    {
     "data": {
      "image/png": "[encoded data removed]",
      "text/plain": [
       "<Figure size 576x432 with 1 Axes>"
      ]
     },
     "metadata": {
      "needs_background": "light"
     },
     "output_type": "display_data"
    }
   ],
   "source": [
    "plt.figure(figsize=(8,6))\n",
    "plt.plot(x,y,'*b')\n",
    "\n",
    "plt.xlabel('$x$',fontsize=20)\n",
    "plt.ylabel('$y$',fontsize=20)\n",
    "\n",
    "plt.grid()\n",
    "plt.show()"
   ]
  },
  {
   "cell_type": "code",
   "execution_count": 59,
   "id": "c6cbb393",
   "metadata": {},
   "outputs": [],
   "source": [
    "x_norm = (x-min(x))/(max(x)-min(x))\n",
    "y_norm = (y-min(y))/(max(y)-min(y))"
   ]
  },
  {
   "cell_type": "code",
   "execution_count": 60,
   "id": "dfab22e9",
   "metadata": {},
   "outputs": [
    {
     "data": {
      "image/png": "[encoded data removed]",
      "text/plain": [
       "<Figure size 576x432 with 1 Axes>"
      ]
     },
     "metadata": {
      "needs_background": "light"
     },
     "output_type": "display_data"
    }
   ],
   "source": [
    "plt.figure(figsize=(8,6))\n",
    "plt.plot(x_norm, y_norm, '*b')\n",
    "\n",
    "plt.xlabel('$x$',fontsize=20)\n",
    "plt.ylabel('$y$',fontsize=20)\n",
    "\n",
    "plt.grid()\n",
    "plt.show()"
   ]
  },
  {
   "cell_type": "code",
   "execution_count": 61,
   "id": "8d585f9e",
   "metadata": {},
   "outputs": [],
   "source": [
    "def fun_obj(beta,x,y,n):\n",
    "    yhat = beta.dot([x**i for i in range(n+1)])\n",
    "    error = y-yhat\n",
    "    return np.sum(error**2)"
   ]
  },
  {
   "cell_type": "code",
   "execution_count": 77,
   "id": "9923721b",
   "metadata": {},
   "outputs": [],
   "source": [
    "b01 = np.zeros(2)\n",
    "ajuste1 = opt.minimize(fun_obj, b01, args=(x_norm,y_norm,1))\n",
    "\n",
    "b02 = np.zeros(3)\n",
    "ajuste2 = opt.minimize(fun_obj, b02, args=(x_norm,y_norm,2))\n",
    "\n",
    "b03 = np.zeros(4)\n",
    "ajuste3 = opt.minimize(fun_obj, b03, args=(x_norm,y_norm,3))\n",
    "\n",
    "b04 = np.zeros(5)\n",
    "ajuste4 = opt.minimize(fun_obj, b04, args=(x_norm,y_norm,4))"
   ]
  },
  {
   "cell_type": "code",
   "execution_count": 78,
   "id": "18951736",
   "metadata": {},
   "outputs": [
    {
     "data": {
      "text/plain": [
       "      fun: 0.11557503636984515\n",
       " hess_inv: array([[ 0.24734705, -0.41758017],\n",
       "       [-0.41758017,  0.78569114]])\n",
       "      jac: array([2.43075192e-07, 4.74974513e-08])\n",
       "  message: 'Optimization terminated successfully.'\n",
       "     nfev: 15\n",
       "      nit: 2\n",
       "     njev: 5\n",
       "   status: 0\n",
       "  success: True\n",
       "        x: array([-0.05004192,  0.91901657])"
      ]
     },
     "execution_count": 78,
     "metadata": {},
     "output_type": "execute_result"
    }
   ],
   "source": [
    "ajuste1"
   ]
  },
  {
   "cell_type": "code",
   "execution_count": 79,
   "id": "ea827281",
   "metadata": {},
   "outputs": [
    {
     "data": {
      "text/plain": [
       "      fun: 0.08276893783486118\n",
       " hess_inv: array([[ 0.18538966, -0.72175351,  0.5860392 ],\n",
       "       [-0.72175351,  3.98301   , -3.71158131],\n",
       "       [ 0.5860392 , -3.71158131,  3.71158119]])\n",
       "      jac: array([ 2.79396772e-09, -9.31322575e-10,  1.86264515e-09])\n",
       "  message: 'Optimization terminated successfully.'\n",
       "     nfev: 32\n",
       "      nit: 5\n",
       "     njev: 8\n",
       "   status: 0\n",
       "  success: True\n",
       "        x: array([0.02787634, 0.42553417, 0.49348242])"
      ]
     },
     "execution_count": 79,
     "metadata": {},
     "output_type": "execute_result"
    }
   ],
   "source": [
    "ajuste2"
   ]
  },
  {
   "cell_type": "code",
   "execution_count": 80,
   "id": "069ceea3",
   "metadata": {},
   "outputs": [
    {
     "data": {
      "text/plain": [
       "      fun: 0.046523733982285306\n",
       " hess_inv: array([[  0.27766245,  -2.03430184,   3.99568634,  -2.28945418],\n",
       "       [ -2.03430184,  22.18977743, -50.51969344,  31.2456621 ],\n",
       "       [  3.99568634, -50.51969344, 123.52448509, -79.77731379],\n",
       "       [ -2.28945418,  31.2456621 , -79.77731379,  53.04264869]])\n",
       "      jac: array([ 4.68920916e-07, -2.14343891e-06,  2.78931111e-07,  1.90408900e-06])\n",
       "  message: 'Optimization terminated successfully.'\n",
       "     nfev: 90\n",
       "      nit: 14\n",
       "     njev: 18\n",
       "   status: 0\n",
       "  success: True\n",
       "        x: array([-0.05543519,  1.57503033, -2.45514654,  1.96575881])"
      ]
     },
     "execution_count": 80,
     "metadata": {},
     "output_type": "execute_result"
    }
   ],
   "source": [
    "ajuste3"
   ]
  },
  {
   "cell_type": "code",
   "execution_count": 81,
   "id": "90ec7e98",
   "metadata": {},
   "outputs": [
    {
     "data": {
      "text/plain": [
       "      fun: 0.036315878309901586\n",
       " hess_inv: array([[ 3.55973088e-01, -4.16419562e+00,  1.43264478e+01,\n",
       "        -1.87696584e+01,  8.28853705e+00],\n",
       "       [-4.16419562e+00,  7.76595678e+01, -3.15548216e+02,\n",
       "         4.50640306e+02, -2.09862125e+02],\n",
       "       [ 1.43264478e+01, -3.15548216e+02,  1.38230612e+03,\n",
       "        -2.06500664e+03,  9.91199439e+02],\n",
       "       [-1.87696584e+01,  4.50640306e+02, -2.06500664e+03,\n",
       "         3.17775654e+03, -1.55808228e+03],\n",
       "       [ 8.28853705e+00, -2.09862125e+02,  9.91199439e+02,\n",
       "        -1.55808228e+03,  7.76230266e+02]])\n",
       "      jac: array([-6.03031367e-07,  2.95042992e-06, -8.06525350e-07, -1.46869570e-06,\n",
       "       -8.64267349e-07])\n",
       "  message: 'Optimization terminated successfully.'\n",
       "     nfev: 192\n",
       "      nit: 28\n",
       "     njev: 32\n",
       "   status: 0\n",
       "  success: True\n",
       "        x: array([-0.01450689,  0.51073352,  2.62348085, -6.06295601,  4.01439155])"
      ]
     },
     "execution_count": 81,
     "metadata": {},
     "output_type": "execute_result"
    }
   ],
   "source": [
    "ajuste4"
   ]
  },
  {
   "cell_type": "code",
   "execution_count": 82,
   "id": "d5b10a73",
   "metadata": {},
   "outputs": [],
   "source": [
    "yhat1 = ajuste1.x.dot([x_norm**i for i in range(2)])*(max(y)-min(y)) + min(y)\n",
    "yhat2 = ajuste2.x.dot([x_norm**i for i in range(3)])*(max(y)-min(y)) + min(y)\n",
    "yhat3 = ajuste3.x.dot([x_norm**i for i in range(4)])*(max(y)-min(y)) + min(y)\n",
    "yhat4 = ajuste4.x.dot([x_norm**i for i in range(5)])*(max(y)-min(y)) + min(y)"
   ]
  },
  {
   "cell_type": "code",
   "execution_count": 83,
   "id": "10a32ebe",
   "metadata": {},
   "outputs": [],
   "source": [
    "import matplotlib.pyplot as plt"
   ]
  },
  {
   "cell_type": "code",
   "execution_count": 99,
   "id": "14c8b798",
   "metadata": {},
   "outputs": [
    {
     "data": {
      "image/png": "[encoded data removed]",
      "text/plain": [
       "<Figure size 576x432 with 1 Axes>"
      ]
     },
     "metadata": {
      "needs_background": "light"
     },
     "output_type": "display_data"
    }
   ],
   "source": [
    "plt.figure(figsize=(8,6))\n",
    "\n",
    "plt.plot(x, y, 'ok', ms=6, label='Datos')\n",
    "plt.plot(x, yhat1, 'b', lw=3, label='Ajuste 1')\n",
    "plt.plot(x, yhat2, 'y', lw=3, label='Ajuste 2')\n",
    "plt.plot(x, yhat3, 'r', lw=3, label='Ajuste 3')\n",
    "plt.plot(x, yhat3, 'c--', lw=3, label='Ajuste 4')\n",
    "\n",
    "plt.title('Índice del costo de los materiales del año 2000-2019, base junio 2012 = 100%',fontsize=18)\n",
    "plt.xlabel('Años',fontsize=14)\n",
    "plt.ylabel('Índice base junio 2012 (%)',fontsize=14)\n",
    "\n",
    "plt.grid()\n",
    "plt.legend(loc='best')\n",
    "plt.show()"
   ]
  },
  {
   "cell_type": "code",
   "execution_count": 90,
   "id": "28f325da",
   "metadata": {},
   "outputs": [
    {
     "data": {
      "text/plain": [
       "Text(0, 0.5, 'error')"
      ]
     },
     "execution_count": 90,
     "metadata": {},
     "output_type": "execute_result"
    },
    {
     "data": {
      "image/png": "[encoded data removed]",
      "text/plain": [
       "<Figure size 576x432 with 1 Axes>"
      ]
     },
     "metadata": {
      "needs_background": "light"
     },
     "output_type": "display_data"
    }
   ],
   "source": [
    "error = [ajuste1.fun, ajuste2.fun, ajuste3.fun, ajuste4.fun]\n",
    "plt.figure(figsize=(8,6))\n",
    "plt.plot(range(1,5), error, 'r*-', ms=6)\n",
    "plt.xlabel('orden del polinomio')\n",
    "plt.ylabel('error')"
   ]
  },
  {
   "cell_type": "markdown",
   "id": "a5743ee2",
   "metadata": {},
   "source": [
    "De acuerdo a la gráfica anterior podemos notar, que el polinomio que mejor se ajusta es el de tercer grado, ya que es ahí donde se forma el \"codo\"."
   ]
  },
  {
   "attachments": {},
   "cell_type": "markdown",
   "id": "73fe2003",
   "metadata": {},
   "source": [
    "Con los polinomios ajustados en el punto anterior, podemos hacer una comparación que estime el índice del costo de los materiales, tomado como base junio de 2012. En 2019, el costo de los materiales tuvo un índice de $146.758\\%$."
   ]
  },
  {
   "cell_type": "code",
   "execution_count": 97,
   "id": "501ac661",
   "metadata": {},
   "outputs": [
    {
     "data": {
      "text/plain": [
       "(134.65807094728086,\n",
       " 141.85366827613723,\n",
       " 149.54759324949475,\n",
       " 153.32791577869054,\n",
       " 146.758)"
      ]
     },
     "execution_count": 97,
     "metadata": {},
     "output_type": "execute_result"
    }
   ],
   "source": [
    "yhat1[19], yhat2[19], yhat3[19], yhat4[19], y[19]"
   ]
  },
  {
   "cell_type": "markdown",
   "id": "7b903b60",
   "metadata": {},
   "source": [
    "Como podemos ver, el polinomio que mejor estima el dato es el de tercer grado, el mismo polinomio que se ajusta más adecuadamente a los datos."
   ]
  }
 ],
 "metadata": {
  "kernelspec": {
   "display_name": "Python 3 (ipykernel)",
   "language": "python",
   "name": "python3"
  },
  "language_info": {
   "codemirror_mode": {
    "name": "ipython",
    "version": 3
   },
   "file_extension": ".py",
   "mimetype": "text/x-python",
   "name": "python",
   "nbconvert_exporter": "python",
   "pygments_lexer": "ipython3",
   "version": "3.9.12"
  }
 },
 "nbformat": 4,
 "nbformat_minor": 5
}
